{
 "cells": [
  {
   "cell_type": "code",
   "execution_count": 0,
   "metadata": {
    "application/vnd.databricks.v1+cell": {
     "cellMetadata": {},
     "inputWidgets": {},
     "nuid": "f9f2988b-7fd4-4c3d-978d-c208d617b631",
     "showTitle": false,
     "tableResultSettingsMap": {},
     "title": ""
    }
   },
   "outputs": [],
   "source": [
    "stream/ real time : data which grows over time (sec, min, hour, day, week ...)\n",
    "\n",
    "batch;\n",
    "\n",
    "df=spark.read.csv(\"path\")\n",
    "df.write.mode(\"overwrite\").saveAsTable(\"tblame\")\n",
    "\n",
    "\n",
    "Spark structured streaming \n",
    "df=spark.readStream.schema(users_schema).csv(\"path\")\n",
    "df.writeStream.option(\"checkpointLocation\",\"volumn/adls/s3\").saveAsTable(\"tblame\")\n"
   ]
  },
  {
   "cell_type": "code",
   "execution_count": 0,
   "metadata": {
    "application/vnd.databricks.v1+cell": {
     "cellMetadata": {
      "byteLimit": 2048000,
      "rowLimit": 10000
     },
     "inputWidgets": {},
     "nuid": "e331ea48-3c18-49bd-9355-0dc4593cd133",
     "showTitle": false,
     "tableResultSettingsMap": {},
     "title": ""
    }
   },
   "outputs": [],
   "source": [
    "df=spark.read.csv(\"/Volumes/dev/default/raw/input_stream/\",header=True,inferSchema=True)"
   ]
  },
  {
   "cell_type": "code",
   "execution_count": 0,
   "metadata": {
    "application/vnd.databricks.v1+cell": {
     "cellMetadata": {
      "byteLimit": 2048000,
      "rowLimit": 10000
     },
     "inputWidgets": {},
     "nuid": "c6b7ffe4-9730-421e-aa64-c1dc8d2913a3",
     "showTitle": false,
     "tableResultSettingsMap": {},
     "title": ""
    }
   },
   "outputs": [],
   "source": [
    "user_schema=\"id int, name string, gender string, salary int, country string, date string\""
   ]
  },
  {
   "cell_type": "code",
   "execution_count": 0,
   "metadata": {
    "application/vnd.databricks.v1+cell": {
     "cellMetadata": {
      "byteLimit": 2048000,
      "rowLimit": 10000
     },
     "inputWidgets": {},
     "nuid": "00aa3666-e6b8-466d-81c9-3b9b4d3cc8c3",
     "showTitle": false,
     "tableResultSettingsMap": {},
     "title": ""
    }
   },
   "outputs": [],
   "source": [
    "df=spark.readStream.schema(user_schema).csv(\"/Volumes/dev/default/raw/input_stream/\",header=True)\n",
    "\n",
    "\n",
    "df.writeStream.option(\"checkpointLocation\",\"/Volumes/dev/default/raw/checkpoint/months\").trigger(once=True).toTable(\"dev.bronze.stream\")"
   ]
  },
  {
   "cell_type": "code",
   "execution_count": 0,
   "metadata": {
    "application/vnd.databricks.v1+cell": {
     "cellMetadata": {
      "byteLimit": 2048000,
      "rowLimit": 10000
     },
     "inputWidgets": {},
     "nuid": "15a4fda9-dfb0-4b05-8db4-5d607818a80f",
     "showTitle": false,
     "tableResultSettingsMap": {},
     "title": ""
    }
   },
   "outputs": [],
   "source": [
    "(\n",
    "spark\n",
    " .readStream\n",
    " .schema(user_schema)\n",
    " .csv(\"/Volumes/dev/default/raw/input_stream/\",header=True)\n",
    " .writeStream.option(\"checkpointLocation\",\"/Volumes/dev/default/raw/checkpoint/months\")\n",
    " .trigger(once=True)\n",
    " .toTable(\"dev.bronze.stream\")\n",
    " )"
   ]
  },
  {
   "cell_type": "code",
   "execution_count": 0,
   "metadata": {
    "application/vnd.databricks.v1+cell": {
     "cellMetadata": {},
     "inputWidgets": {},
     "nuid": "b6dd0c4f-ff41-403b-a64b-f0b7fa4ed420",
     "showTitle": false,
     "tableResultSettingsMap": {},
     "title": ""
    }
   },
   "outputs": [],
   "source": [
    "trigger by default 0.5 sec\n",
    "\n",
    "trigger ( processingTime= 1 mintue)\n",
    "\n",
    "trigger (once=True) stream stop "
   ]
  },
  {
   "cell_type": "code",
   "execution_count": 0,
   "metadata": {
    "application/vnd.databricks.v1+cell": {
     "cellMetadata": {
      "byteLimit": 2048000,
      "rowLimit": 10000
     },
     "inputWidgets": {},
     "nuid": "da4c0ecb-1d0c-4a91-9806-06140a3e5c4f",
     "showTitle": false,
     "tableResultSettingsMap": {},
     "title": ""
    }
   },
   "outputs": [],
   "source": [
    "df=spark.read.table(\"dev.bronze.stream\")"
   ]
  },
  {
   "cell_type": "code",
   "execution_count": 0,
   "metadata": {
    "application/vnd.databricks.v1+cell": {
     "cellMetadata": {
      "byteLimit": 2048000,
      "implicitDf": true,
      "rowLimit": 10000
     },
     "inputWidgets": {},
     "nuid": "57899c08-9733-4ce3-932e-e1671d4ce686",
     "showTitle": false,
     "tableResultSettingsMap": {},
     "title": ""
    }
   },
   "outputs": [],
   "source": [
    "%sql\n",
    "select * from dev.bronze.stream"
   ]
  },
  {
   "cell_type": "code",
   "execution_count": 0,
   "metadata": {
    "application/vnd.databricks.v1+cell": {
     "cellMetadata": {},
     "inputWidgets": {},
     "nuid": "4d173c5a-4c6f-4b91-a3ff-52bf137575b4",
     "showTitle": false,
     "tableResultSettingsMap": {},
     "title": ""
    }
   },
   "outputs": [],
   "source": [
    "Autoloader: (Spark structured streaming) databricks \n",
    "\n",
    "\n",
    "df=spark.readStream.format(\"cloudFiles\").option(\"cloudFiles.format\",\"csv\").option(\"cloudFiles.schemaLocation\",\"/Volumes/dev/default/raw/schema\")\n"
   ]
  },
  {
   "cell_type": "code",
   "execution_count": 0,
   "metadata": {
    "application/vnd.databricks.v1+cell": {
     "cellMetadata": {},
     "inputWidgets": {},
     "nuid": "6dfc644f-8984-4e2d-a078-33ae47ebca3c",
     "showTitle": false,
     "tableResultSettingsMap": {},
     "title": ""
    }
   },
   "outputs": [],
   "source": [
    "(\n",
    "spark\n",
    " .readStream\n",
    " .schema(user_schema)\n",
    " .csv(\"/Volumes/dev/default/raw/input_stream/\",header=True)\n",
    " .writeStream.option(\"checkpointLocation\",\"/Volumes/dev/default/raw/checkpoint/months\")\n",
    " .trigger(once=True)\n",
    " .toTable(\"dev.bronze.stream\")\n",
    " )"
   ]
  },
  {
   "cell_type": "code",
   "execution_count": 0,
   "metadata": {
    "application/vnd.databricks.v1+cell": {
     "cellMetadata": {},
     "inputWidgets": {},
     "nuid": "35fd774f-1e56-4768-8f85-829a8e727eec",
     "showTitle": false,
     "tableResultSettingsMap": {},
     "title": ""
    }
   },
   "outputs": [],
   "source": [
    "(\n",
    "spark\n",
    " .readStream\n",
    " .format(\"cloudFiles\")\n",
    " .option(\"cloudFiles.format\",\"csv\")\n",
    " .option(\"cloudFiles.schemaLocation\",\"/Volumes/dev/default/raw/schema\")\n",
    " .load(\"/Volumes/dev/default/raw/input_stream/\")\n",
    " .writeStream\n",
    " .option(\"checkpointLocation\",\"/Volumes/dev/default/raw/checkpoint/months\")\n",
    " .trigger(once=True)\n",
    " .toTable(\"dev.bronze.stream\")\n",
    " )"
   ]
  }
 ],
 "metadata": {
  "application/vnd.databricks.v1+notebook": {
   "computePreferences": {
    "hardware": {
     "accelerator": null,
     "gpuPoolId": null,
     "memory": null
    }
   },
   "dashboards": [],
   "environmentMetadata": {
    "base_environment": "",
    "environment_version": "3"
   },
   "inputWidgetPreferences": null,
   "language": "python",
   "notebookMetadata": {
    "mostRecentlyExecutedCommandWithImplicitDF": {
     "commandId": 8775860181568059,
     "dataframes": [
      "_sqldf"
     ]
    },
    "pythonIndentUnit": 4
   },
   "notebookName": "Stream",
   "widgets": {}
  },
  "language_info": {
   "name": "python"
  }
 },
 "nbformat": 4,
 "nbformat_minor": 0
}
