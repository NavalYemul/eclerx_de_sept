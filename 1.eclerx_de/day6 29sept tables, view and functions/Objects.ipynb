{
 "cells": [
  {
   "cell_type": "code",
   "execution_count": 0,
   "metadata": {
    "application/vnd.databricks.v1+cell": {
     "cellMetadata": {
      "byteLimit": 2048000,
      "rowLimit": 10000
     },
     "inputWidgets": {},
     "nuid": "977f97e0-0a7f-4bc0-9fcc-d9688f12fc4d",
     "showTitle": false,
     "tableResultSettingsMap": {},
     "title": ""
    }
   },
   "outputs": [],
   "source": [
    "Types of Tables: \n",
    "1. Managed table \n",
    "2. External table ( unmanaged table)\n",
    "\n",
    "\n",
    "1. Managed table:\n",
    "(default storage account)\n",
    "metadata is managed by databricks  \n",
    "\n",
    "(data (parqeut)+metadata(json)) in default storage \n",
    "\n",
    "i. create table tblname(id int)\n",
    "ii. create table tblname as select * from read_files(\"path\") \n",
    "iii. spark.read.csv(\"path\").write.saveAsTable(\"tblname\")\n",
    "\n",
    "DROP : deletes everything\n",
    "\n",
    "2. External table ( unmanaged table)\n",
    "\n",
    "(data (parqeut)+metadata(json)) in users location \n",
    "\n",
    "\n",
    "i. create table tblname(id int) location 's3/ adls '\n",
    "ii. create table tblname location 's3' as select * from read_files(\"path\") \n",
    "iii. spark.read.option(\"path\",\"adls\").csv(\"path\").write.saveAsTable(\"tblname\")\n",
    "\n",
    "\n",
    "drop : table form catalog will be delete and data+metadata remains untouched"
   ]
  },
  {
   "cell_type": "code",
   "execution_count": 0,
   "metadata": {
    "application/vnd.databricks.v1+cell": {
     "cellMetadata": {},
     "inputWidgets": {},
     "nuid": "b9702e10-0a78-4dad-9980-7114a7498446",
     "showTitle": false,
     "tableResultSettingsMap": {},
     "title": ""
    }
   },
   "outputs": [],
   "source": [
    "create table dev.default.emp_vendor_eclerx (id int, name string) location 'abfss://raw@sadatamaster.dfs.core.windows.net/eclerx_vendor_2'"
   ]
  },
  {
   "cell_type": "code",
   "execution_count": 0,
   "metadata": {
    "application/vnd.databricks.v1+cell": {
     "cellMetadata": {},
     "inputWidgets": {},
     "nuid": "cdb462dc-e500-401d-962e-e5cda013d153",
     "showTitle": false,
     "tableResultSettingsMap": {},
     "title": ""
    }
   },
   "outputs": [],
   "source": [
    "%python\n",
    "dbutils.fs.rm(\"abfss://raw@sadatamaster.dfs.core.windows.net/eclerx_vendor_2\")"
   ]
  },
  {
   "cell_type": "code",
   "execution_count": 0,
   "metadata": {
    "application/vnd.databricks.v1+cell": {
     "cellMetadata": {
      "byteLimit": 2048000,
      "rowLimit": 10000
     },
     "inputWidgets": {},
     "nuid": "0e8891a4-c5dc-404b-a002-eb67eb1d82cb",
     "showTitle": false,
     "tableResultSettingsMap": {},
     "title": ""
    }
   },
   "outputs": [],
   "source": [
    "select * from top_branches"
   ]
  },
  {
   "cell_type": "code",
   "execution_count": 0,
   "metadata": {
    "application/vnd.databricks.v1+cell": {
     "cellMetadata": {
      "byteLimit": 2048000,
      "rowLimit": 10000
     },
     "inputWidgets": {},
     "nuid": "081a383c-1119-4348-a298-99a8733808a7",
     "showTitle": false,
     "tableResultSettingsMap": {},
     "title": ""
    }
   },
   "outputs": [],
   "source": [
    "select * from dev.demo.accout_type"
   ]
  }
 ],
 "metadata": {
  "application/vnd.databricks.v1+notebook": {
   "computePreferences": {
    "hardware": {
     "accelerator": null,
     "gpuPoolId": null,
     "memory": null
    }
   },
   "dashboards": [],
   "environmentMetadata": {
    "base_environment": "",
    "environment_version": "3"
   },
   "inputWidgetPreferences": null,
   "language": "sql",
   "notebookMetadata": {
    "pythonIndentUnit": 4
   },
   "notebookName": "Objects",
   "widgets": {}
  },
  "language_info": {
   "name": "sql"
  }
 },
 "nbformat": 4,
 "nbformat_minor": 0
}
